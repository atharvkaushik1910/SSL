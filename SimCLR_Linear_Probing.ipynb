{
  "nbformat": 4,
  "nbformat_minor": 0,
  "metadata": {
    "colab": {
      "provenance": []
    },
    "kernelspec": {
      "name": "python3",
      "display_name": "Python 3"
    },
    "language_info": {
      "name": "python"
    }
  },
  "cells": [
    {
      "cell_type": "markdown",
      "source": [
        "Importing Libraries"
      ],
      "metadata": {
        "id": "mc_oeupw2ZWS"
      }
    },
    {
      "cell_type": "code",
      "source": [
        "import tensorflow as tf\n",
        "from tensorflow.keras import layers, models\n",
        "from sklearn.metrics import classification_report\n",
        "import numpy as np\n",
        "import os\n"
      ],
      "metadata": {
        "id": "nY8H76E52g1X"
      },
      "execution_count": null,
      "outputs": []
    },
    {
      "cell_type": "markdown",
      "source": [
        "Load class label mapping from Labels.json"
      ],
      "metadata": {
        "id": "qgaj05sI83Da"
      }
    },
    {
      "cell_type": "code",
      "source": [
        "import json\n",
        "\n",
        "# Load class label mapping\n",
        "with open(\"ssl_dataset/Labels.json\", \"r\") as f:\n",
        "    label_map = json.load(f)\n",
        "\n",
        "# Sort class names by label index\n",
        "class_names = sorted(label_map, key=lambda k: label_map[k])\n"
      ],
      "metadata": {
        "id": "KbmdepVG83fL"
      },
      "execution_count": null,
      "outputs": []
    },
    {
      "cell_type": "markdown",
      "source": [
        "Load Labeled Dataset"
      ],
      "metadata": {
        "id": "IIGf1a1-2kNY"
      }
    },
    {
      "cell_type": "code",
      "source": [
        "train_dir = 'imagenet100/train'\n",
        "val_dir = 'imagenet100/val'\n",
        "\n",
        "batch_size = 64\n",
        "img_size = (224, 224)\n",
        "\n",
        "# Train (with labels)\n",
        "train_ds = tf.keras.preprocessing.image_dataset_from_directory(\n",
        "    train_dir,\n",
        "    label_mode='int',\n",
        "    image_size=img_size,\n",
        "    batch_size=batch_size,\n",
        "    shuffle=True\n",
        ")\n",
        "\n",
        "# Validation\n",
        "val_ds = tf.keras.preprocessing.image_dataset_from_directory(\n",
        "    \"ssl_dataset/val.X\",\n",
        "    label_mode='int',\n",
        "    image_size=(224, 224),\n",
        "    batch_size=64,\n",
        "    class_names=class_names,\n",
        "    shuffle=False\n",
        ")\n",
        "\n",
        "\n",
        "# Normalize\n",
        "normalization_layer = tf.keras.layers.Rescaling(1./255)\n",
        "train_ds = train_ds.map(lambda x, y: (normalization_layer(x), y))\n",
        "val_ds = val_ds.map(lambda x, y: (normalization_layer(x), y))\n"
      ],
      "metadata": {
        "id": "g5p_B2to2m2A"
      },
      "execution_count": null,
      "outputs": []
    },
    {
      "cell_type": "markdown",
      "source": [],
      "metadata": {
        "id": "q9dWYfv-9eKF"
      }
    },
    {
      "cell_type": "code",
      "source": [
        "val_ds = tf.keras.preprocessing.image_dataset_from_directory(\n",
        "    \"ssl_dataset/val.X\",\n",
        "    label_mode='int',\n",
        "    image_size=(224, 224),\n",
        "    batch_size=64,\n",
        "    class_names=class_names,\n",
        "    shuffle=False\n",
        ")\n"
      ],
      "metadata": {
        "id": "lE-_ZUj59ebO"
      },
      "execution_count": null,
      "outputs": []
    },
    {
      "cell_type": "markdown",
      "source": [
        "Load Frozen Encoder"
      ],
      "metadata": {
        "id": "vRI6F3qd3IW1"
      }
    },
    {
      "cell_type": "code",
      "source": [
        "encoder = tf.keras.models.load_model('simclr_encoder.h5')\n",
        "encoder.trainable = False  # Freeze it!\n"
      ],
      "metadata": {
        "id": "9lmL0rp23JP8"
      },
      "execution_count": null,
      "outputs": []
    },
    {
      "cell_type": "markdown",
      "source": [
        "Attach Linear Classifier"
      ],
      "metadata": {
        "id": "QdLEBEyN3LQb"
      }
    },
    {
      "cell_type": "code",
      "source": [
        "num_classes = 100  # For ImageNet-100\n",
        "\n",
        "model = tf.keras.Sequential([\n",
        "    encoder,\n",
        "    layers.Dense(num_classes, activation='softmax')\n",
        "])\n",
        "\n",
        "model.compile(optimizer='adam',\n",
        "              loss='sparse_categorical_crossentropy',\n",
        "              metrics=['accuracy'])\n"
      ],
      "metadata": {
        "id": "7LMIKRFn3PSp"
      },
      "execution_count": null,
      "outputs": []
    },
    {
      "cell_type": "markdown",
      "source": [
        "Train Linear Classifier\n"
      ],
      "metadata": {
        "id": "Q8epJvon3VJL"
      }
    },
    {
      "cell_type": "code",
      "source": [
        "history = model.fit(train_ds, validation_data=val_ds, epochs=10)\n"
      ],
      "metadata": {
        "id": "gpO4TWn43b25"
      },
      "execution_count": null,
      "outputs": []
    },
    {
      "cell_type": "markdown",
      "source": [
        "Evaluate Performance"
      ],
      "metadata": {
        "id": "R3bxqfr13f7W"
      }
    },
    {
      "cell_type": "code",
      "source": [
        "# Get predictions and true labels\n",
        "y_true = np.concatenate([y.numpy() for x, y in val_ds], axis=0)\n",
        "y_pred_probs = model.predict(val_ds)\n",
        "y_pred = np.argmax(y_pred_probs, axis=1)\n",
        "\n",
        "# Classification report\n",
        "print(classification_report(y_true, y_pred))\n"
      ],
      "metadata": {
        "id": "6tL7qSgN3gkI"
      },
      "execution_count": null,
      "outputs": []
    },
    {
      "cell_type": "markdown",
      "source": [
        "Plot Accuracy & Loss Curves"
      ],
      "metadata": {
        "id": "pzo29G0F3k-d"
      }
    },
    {
      "cell_type": "code",
      "source": [
        "import matplotlib.pyplot as plt\n",
        "\n",
        "plt.plot(history.history['accuracy'], label='Train Acc')\n",
        "plt.plot(history.history['val_accuracy'], label='Val Acc')\n",
        "plt.title('Accuracy Curve')\n",
        "plt.xlabel('Epoch')\n",
        "plt.ylabel('Accuracy')\n",
        "plt.legend()\n",
        "plt.show()\n",
        "\n",
        "plt.plot(history.history['loss'], label='Train Loss')\n",
        "plt.plot(history.history['val_loss'], label='Val Loss')\n",
        "plt.title('Loss Curve')\n",
        "plt.xlabel('Epoch')\n",
        "plt.ylabel('Loss')\n",
        "plt.legend()\n",
        "plt.show()\n"
      ],
      "metadata": {
        "id": "R8Tpgbml3nHW"
      },
      "execution_count": null,
      "outputs": []
    }
  ]
}