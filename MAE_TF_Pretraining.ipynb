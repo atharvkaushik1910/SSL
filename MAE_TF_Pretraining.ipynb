{
  "nbformat": 4,
  "nbformat_minor": 0,
  "metadata": {
    "colab": {
      "provenance": [],
      "authorship_tag": "ABX9TyNU1/Sg887XqJhq4px2tuj9",
      "include_colab_link": true
    },
    "kernelspec": {
      "name": "python3",
      "display_name": "Python 3"
    },
    "language_info": {
      "name": "python"
    }
  },
  "cells": [
    {
      "cell_type": "markdown",
      "metadata": {
        "id": "view-in-github",
        "colab_type": "text"
      },
      "source": [
        "<a href=\"https://colab.research.google.com/github/atharvkaushik1910/SSL/blob/main/MAE_TF_Pretraining.ipynb\" target=\"_parent\"><img src=\"https://colab.research.google.com/assets/colab-badge.svg\" alt=\"Open In Colab\"/></a>"
      ]
    },
    {
      "cell_type": "markdown",
      "source": [
        "Importing libraries"
      ],
      "metadata": {
        "id": "6gCg632gSdrL"
      }
    },
    {
      "cell_type": "code",
      "source": [
        "import tensorflow as tf\n",
        "from tensorflow.keras import layers, models\n",
        "import numpy as np\n",
        "import os\n",
        "import random\n",
        "from tensorflow.keras.preprocessing import image_dataset_from_directory\n"
      ],
      "metadata": {
        "id": "yLANefmgSf59"
      },
      "execution_count": null,
      "outputs": []
    },
    {
      "cell_type": "markdown",
      "source": [
        "Dataset Loading (Unlabeled for Pretraining)"
      ],
      "metadata": {
        "id": "HAb7F-n7SjW6"
      }
    },
    {
      "cell_type": "code",
      "source": [
        "IMAGE_SIZE = 224\n",
        "BATCH_SIZE = 64\n",
        "\n",
        "train_dataset = image_dataset_from_directory(\n",
        "    \"path_to/train\",  # <- Set this to your ImageNet-100 'train' folder\n",
        "    labels=None,\n",
        "    shuffle=True,\n",
        "    batch_size=BATCH_SIZE,\n",
        "    image_size=(IMAGE_SIZE, IMAGE_SIZE)\n",
        ").map(lambda x: (x / 255.0))  # Normalize to [0, 1]\n"
      ],
      "metadata": {
        "id": "OOy99cRSSmaN"
      },
      "execution_count": null,
      "outputs": []
    },
    {
      "cell_type": "markdown",
      "source": [
        "Patch + Masking Utility"
      ],
      "metadata": {
        "id": "1NepcOM-StL7"
      }
    },
    {
      "cell_type": "code",
      "source": [
        "def patchify(images, patch_size=16):\n",
        "    batch_size = tf.shape(images)[0]\n",
        "    patches = tf.image.extract_patches(\n",
        "        images=images,\n",
        "        sizes=[1, patch_size, patch_size, 1],\n",
        "        strides=[1, patch_size, patch_size, 1],\n",
        "        rates=[1, 1, 1, 1],\n",
        "        padding='VALID'\n",
        "    )\n",
        "    patch_dims = patches.shape[-1]\n",
        "    patches = tf.reshape(patches, [batch_size, -1, patch_dims])\n",
        "    return patches\n",
        "\n",
        "def random_masking(patches, mask_ratio=0.75):\n",
        "    batch, num_patches, _ = patches.shape\n",
        "    num_mask = int(mask_ratio * num_patches)\n",
        "\n",
        "    mask_indices = np.array([\n",
        "        np.random.choice(num_patches, num_mask, replace=False) for _ in range(batch)\n",
        "    ])\n",
        "\n",
        "    mask = np.ones((batch, num_patches), dtype=np.float32)\n",
        "    for i in range(batch):\n",
        "        mask[i, mask_indices[i]] = 0  # 0 = keep, 1 = mask\n",
        "\n",
        "    return tf.convert_to_tensor(mask), mask_indices\n"
      ],
      "metadata": {
        "id": "QLx9-SdNSuEP"
      },
      "execution_count": null,
      "outputs": []
    },
    {
      "cell_type": "markdown",
      "source": [
        "MAE Encoder + Decoder"
      ],
      "metadata": {
        "id": "tnAycDr5SzJa"
      }
    },
    {
      "cell_type": "code",
      "source": [
        "def create_encoder(input_shape, num_patches, embed_dim):\n",
        "    inputs = layers.Input(shape=input_shape)\n",
        "    x = layers.Dense(embed_dim)(inputs)\n",
        "    x = layers.LayerNormalization()(x)\n",
        "    for _ in range(4):  # Use more layers for deeper encoder\n",
        "        x1 = layers.LayerNormalization()(x)\n",
        "        x1 = layers.MultiHeadAttention(num_heads=4, key_dim=embed_dim)(x1, x1)\n",
        "        x = layers.Add()([x, x1])\n",
        "    outputs = layers.LayerNormalization()(x)\n",
        "    return models.Model(inputs, outputs, name=\"encoder\")\n",
        "\n",
        "def create_decoder(embed_dim, patch_dim):\n",
        "    inputs = layers.Input(shape=(None, embed_dim))\n",
        "    x = layers.Dense(embed_dim)(inputs)\n",
        "    x = layers.LayerNormalization()(x)\n",
        "    x = layers.Dense(patch_dim)(x)\n",
        "    return models.Model(inputs, x, name=\"decoder\")\n"
      ],
      "metadata": {
        "id": "E25j7aNmS2Dg"
      },
      "execution_count": null,
      "outputs": []
    },
    {
      "cell_type": "markdown",
      "source": [
        "MAE Model Wrapper"
      ],
      "metadata": {
        "id": "yM0tFLQKS5BO"
      }
    },
    {
      "cell_type": "code",
      "source": [
        "class MAE(tf.keras.Model):\n",
        "    def __init__(self, encoder, decoder, num_patches, patch_dim):\n",
        "        super(MAE, self).__init__()\n",
        "        self.encoder = encoder\n",
        "        self.decoder = decoder\n",
        "        self.num_patches = num_patches\n",
        "        self.patch_dim = patch_dim\n",
        "\n",
        "    def call(self, images):\n",
        "        patches = patchify(images)  # [B, N, D]\n",
        "        mask, _ = random_masking(patches)\n",
        "        visible_patches = patches * tf.expand_dims(1 - mask, -1)\n",
        "        latent = self.encoder(visible_patches)\n",
        "        reconstructed = self.decoder(latent)\n",
        "        return reconstructed, patches, mask\n"
      ],
      "metadata": {
        "id": "gy9YcyqAS7Su"
      },
      "execution_count": null,
      "outputs": []
    },
    {
      "cell_type": "markdown",
      "source": [
        "Training Loop"
      ],
      "metadata": {
        "id": "9ZDoWHBOS-Li"
      }
    },
    {
      "cell_type": "code",
      "source": [
        "PATCH_SIZE = 16\n",
        "NUM_PATCHES = (IMAGE_SIZE // PATCH_SIZE) ** 2\n",
        "PATCH_DIM = PATCH_SIZE * PATCH_SIZE * 3\n",
        "EMBED_DIM = 128\n",
        "\n",
        "encoder = create_encoder((NUM_PATCHES, PATCH_DIM), NUM_PATCHES, EMBED_DIM)\n",
        "decoder = create_decoder(EMBED_DIM, PATCH_DIM)\n",
        "mae = MAE(encoder, decoder, NUM_PATCHES, PATCH_DIM)\n",
        "\n",
        "loss_fn = tf.keras.losses.MeanSquaredError()\n",
        "optimizer = tf.keras.optimizers.Adam()\n",
        "\n",
        "@tf.function\n",
        "def train_step(images):\n",
        "    with tf.GradientTape() as tape:\n",
        "        reconstructed, original, mask = mae(images)\n",
        "        loss = loss_fn(original * tf.expand_dims(mask, -1), reconstructed * tf.expand_dims(mask, -1))\n",
        "    gradients = tape.gradient(loss, mae.trainable_variables)\n",
        "    optimizer.apply_gradients(zip(gradients, mae.trainable_variables))\n",
        "    return loss\n",
        "\n",
        "EPOCHS = 10\n",
        "for epoch in range(EPOCHS):\n",
        "    print(f\"Epoch {epoch+1}/{EPOCHS}\")\n",
        "    for batch in train_dataset:\n",
        "        loss = train_step(batch)\n",
        "    print(f\"Loss: {loss.numpy():.4f}\")\n"
      ],
      "metadata": {
        "id": "8JWtTAXuTBLL"
      },
      "execution_count": null,
      "outputs": []
    },
    {
      "cell_type": "markdown",
      "source": [
        "Save Encoder for Linear Probing"
      ],
      "metadata": {
        "id": "0-U9QnAnTD16"
      }
    },
    {
      "cell_type": "markdown",
      "source": [
        "encoder.save_weights(\"mae_encoder_tf.h5\")\n"
      ],
      "metadata": {
        "id": "vJc4jmVfTG77"
      }
    }
  ]
}